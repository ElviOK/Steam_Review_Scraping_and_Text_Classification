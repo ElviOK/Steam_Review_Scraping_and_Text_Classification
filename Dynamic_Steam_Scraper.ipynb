{
 "cells": [
  {
   "cell_type": "code",
   "execution_count": null,
   "metadata": {},
   "outputs": [],
   "source": [
    "# Treiber für Firefox, Chrome, Edge, etc.\n",
    "from selenium import webdriver\n",
    "\n",
    "# Art der Lokalisierung von HTML-Elementen: ID, CSS_SELECTOR, XPATH, ...\n",
    "from selenium.webdriver.common.by import By               \n",
    "\n",
    "# Verwendung spezifischer Tasten wie ENTER, ESCAPE, ...\n",
    "from selenium.webdriver.common.keys import Keys\n",
    "\n",
    "# Methoden für Dropdown-Menüs\n",
    "from selenium.webdriver.support.select import Select\n",
    "\n",
    "from selenium.webdriver.support.ui import WebDriverWait\n",
    "from selenium.webdriver.support import expected_conditions as EC\n",
    "#from selenium.webdriver.firefox.options import Options\n",
    "\n",
    "import pandas as pd\n",
    "import re\n",
    "import time\n",
    "\n",
    "# Firefox im headless-Modus einrichten\n",
    "#firefox_options = Options()\n",
    "#firefox_options.add_argument(\"--headless\")\n",
    "#driver = webdriver.Firefox(options=firefox_options)"
   ]
  },
  {
   "cell_type": "markdown",
   "metadata": {},
   "source": [
    "Wir starten einen Browser (hier Firefox) und öffnen eine Webseite."
   ]
  },
  {
   "cell_type": "code",
   "execution_count": null,
   "metadata": {},
   "outputs": [],
   "source": [
    "# Steam-Bewertungsseite öffnen\n",
    "driver = webdriver.Firefox()\n",
    "url = 'https://steamcommunity.com/app/313120/reviews/?browsefilter=toprated&snr=1_5_100010_'\n",
    "driver.get(url)"
   ]
  },
  {
   "cell_type": "markdown",
   "metadata": {},
   "source": [
    "Legt den Zeitraum fest, den der Treiber wartet, bis die Elemente erscheinen. Es wird kein Fehler ausgegeben, wenn das Element innerhalb des Zeitraums nicht gefunden wird."
   ]
  },
  {
   "cell_type": "code",
   "execution_count": 3,
   "metadata": {},
   "outputs": [],
   "source": [
    "driver.implicitly_wait(10)"
   ]
  },
  {
   "cell_type": "markdown",
   "metadata": {},
   "source": [
    "#### Cookie Consent Popup\n",
    "\n",
    "Bevor wir Inhalte der Webseite scrapen können, müssen wir uns mit dem Cookie-Einwilligungs-Popup befassen."
   ]
  },
  {
   "cell_type": "code",
   "execution_count": null,
   "metadata": {},
   "outputs": [],
   "source": [
    "# Cookies akzeptieren, wenn die Schaltfläche sichtbar ist\n",
    "# Warte explizit darauf, dass das Element angezeigt wird (bis zu 10 Sekunden)\n",
    "wait = WebDriverWait(driver, 10)\n",
    "\n",
    "# Verwendung von XPath um pop-up zu finden\n",
    "button = wait.until(EC.element_to_be_clickable((By.XPATH, \"//span[text()='Accept All']/..\")))\n",
    "button.click()"
   ]
  },
  {
   "cell_type": "code",
   "execution_count": 9,
   "metadata": {},
   "outputs": [],
   "source": [
    "# Starte mit der aktuellen Höhe der Seite\n",
    "last_height = driver.execute_script(\"return document.body.scrollHeight\")\n",
    "\n",
    "while True:\n",
    "    # Scrolle bis ans Ende der Seite\n",
    "    driver.execute_script(\"window.scrollTo(0, document.body.scrollHeight);\")\n",
    "    time.sleep(5)  # Warte, damit die neuen Inhalte geladen werden\n",
    "\n",
    "    # Berechne die neue Höhe der Seite\n",
    "    new_height = driver.execute_script(\"return document.body.scrollHeight\")\n",
    "\n",
    "    # Prüfe, ob neue Inhalte geladen wurden\n",
    "    if new_height == last_height:\n",
    "        # Wenn die Seite nicht mehr weiter wächst, ist das Ende erreicht\n",
    "        break\n",
    "\n",
    "    last_height = new_height"
   ]
  },
  {
   "cell_type": "code",
   "execution_count": null,
   "metadata": {},
   "outputs": [
    {
     "name": "stdout",
     "output_type": "stream",
     "text": [
      "Daten erfolgreich in steam_reviews.csv gespeichert\n"
     ]
    }
   ],
   "source": [
    "# Leere Listen für die gescrapten Daten\n",
    "comments = []\n",
    "dates = []\n",
    "hours_played = []\n",
    "titles = []\n",
    "\n",
    "# Finde alle Reviews basierend auf der jeweiligen Klasse\n",
    "reviews = driver.find_elements(By.CSS_SELECTOR, 'div.apphub_CardTextContent')\n",
    "posted_dates = driver.find_elements(By.CSS_SELECTOR, 'div.date_posted')\n",
    "hours = driver.find_elements(By.CSS_SELECTOR, 'div.hours')\n",
    "review_titles = driver.find_elements(By.CSS_SELECTOR, 'div.title')\n",
    "\n",
    "# Speichere die Reviews, Titel, Stunden und Datum\n",
    "for review, date, hour, title in zip(reviews, posted_dates, hours, review_titles):\n",
    "    # Bereinigen des Kommentartextes, indem alles nach dem Schlüsselwort \"EARLY ACCESS REVIEW\" extrahiert wird\n",
    "    clean_comment = re.split(r'EARLY ACCESS REVIEW\\n', review.text)[-1].strip()  \n",
    "    comments.append(clean_comment)\n",
    "    dates.append(date.text)\n",
    "    hours_played.append(hour.text)\n",
    "    titles.append(title.text)\n",
    "\n",
    "    # Daten in einen DataFrame laden\n",
    "df = pd.DataFrame({\n",
    "    'Title': titles,\n",
    "    'Date Posted': dates,\n",
    "    'Hours Played': hours_played,\n",
    "    'Review': comments\n",
    "})\n",
    "\n",
    "# DataFrame als CSV-Datei speichern\n",
    "df.to_csv('steam_reviews.csv', index=False)\n",
    "print(\"Daten erfolgreich in steam_reviews.csv gespeichert\")"
   ]
  },
  {
   "cell_type": "code",
   "execution_count": 12,
   "metadata": {},
   "outputs": [
    {
     "data": {
      "text/plain": [
       "84240"
      ]
     },
     "execution_count": 12,
     "metadata": {},
     "output_type": "execute_result"
    }
   ],
   "source": [
    "# Erlaube die vollständige Anzeige von langen Strings in Zellen\n",
    "pd.set_option('display.max_colwidth', None)\n",
    "\n",
    "# CSV-Datei einlesen\n",
    "df = pd.read_csv('steam_reviews.csv')\n",
    "\n",
    "# Die letzten 5 Zeilen der Datei anzeigen\n",
    "df.size"
   ]
  },
  {
   "cell_type": "code",
   "execution_count": 16,
   "metadata": {},
   "outputs": [
    {
     "data": {
      "text/plain": [
       "(21060, 4)"
      ]
     },
     "execution_count": 16,
     "metadata": {},
     "output_type": "execute_result"
    }
   ],
   "source": [
    "df.shape"
   ]
  },
  {
   "cell_type": "code",
   "execution_count": 17,
   "metadata": {},
   "outputs": [
    {
     "data": {
      "text/html": [
       "<div>\n",
       "<style scoped>\n",
       "    .dataframe tbody tr th:only-of-type {\n",
       "        vertical-align: middle;\n",
       "    }\n",
       "\n",
       "    .dataframe tbody tr th {\n",
       "        vertical-align: top;\n",
       "    }\n",
       "\n",
       "    .dataframe thead th {\n",
       "        text-align: right;\n",
       "    }\n",
       "</style>\n",
       "<table border=\"1\" class=\"dataframe\">\n",
       "  <thead>\n",
       "    <tr style=\"text-align: right;\">\n",
       "      <th></th>\n",
       "      <th>Title</th>\n",
       "      <th>Date Posted</th>\n",
       "      <th>Hours Played</th>\n",
       "      <th>Review</th>\n",
       "    </tr>\n",
       "  </thead>\n",
       "  <tbody>\n",
       "    <tr>\n",
       "      <th>0</th>\n",
       "      <td>Recommended</td>\n",
       "      <td>Posted: 25 January, 2015</td>\n",
       "      <td>84.1 hrs on record</td>\n",
       "      <td>I feel, as the game stands, there isn't enough danger. I am fully aware that it is early days, but i'm also aware they're open to suggestions. I recommend the game as it stands, if you are happy funding development for a game that has SO MUCH potential, and a few solid hours of enjoyment in it's current state.\\n\\nThings i'd personally like to see:\\n\\n-Less sharks (they should be terrifying when encountered, dangerous depending on the species, and you shouldn't be able to swim as fast as them and kill them with your pocket knife. Get rid of that stupid music too, a shark attack should be unexpected, this isn't Jaws.)\\n-You should be able to break your raft if you hit it with a sharp object... if you're stupid enough to attack your boat, you deserve to die.\\n-More island variations: It feels that every island is 'roughly' the same size, and they're all spread out at equal distances... perhaps a few islands linked together, maybe a big island with cliffs (give an element to exploring the land as well as the sea).\\n-Seabirds, with eggs that you can steal to eat!\\n-Saltwater crocs (danger in the shallows and on the land)\\n-A character screen: Being able to equip items would make this game so much fun, like piecing together some torn rags to help shelter your skin from the sun, or making a crappy little hat to help prevent dehydration. Also when you get the diving gear, it gives a chance to equip it/unequip it...\\n-Blood: Having 'blood' to monitor might be interesting too, as cutting yourself could lead to unwanted attention in the water... you should be able to fashion bandages to stop the bleeding, giving a new element to your survival.\\n-Sharp coral in the shallows (in some places). This will make you have to be careful where you come ashore, as you could cut your feet.\\n-Clams\\n-illness: I want the fact I don't have a shelter, and it pisses it down with rain, to kill me. Or if I cut myself and don't bother rubbing that one special plant on the wound, the infection to kill me.\\n-Variations on underwater wrecks (big/small boats, war planes, a lost town which was swallowed by the ocean!?)\\n-Rocks pools (with the crabs in them... instead of just randomly on the beach at 'crab nests') I hate the fact the crabs are so easy to find... this game needs to be about scavenging and surviving, not just sitting and cooking crab after crab.\\n-All trees should be destroyable for wood.\\n-Torches (as in a fire torch)\\n-The ability to build bigger better rafts! Most the time you're traveling, until you find that one 'BIG' island, with the resources to survive, you need to travel, so why not be able to pimp your ride? A wind sail from palm leaves or a rudder from wood. Places to store supplies on rafts.\\n-Bee/wasp nests (you need a torch/smoke to obtain the honey safely)\\n-Scorpions/Snakes/Spiders: You'll have to be careful where you tread (also going back to clothing, you can fashion shoes from coconut husks to protect your feet)\\n***Fires should be maintainable instead of having to make a new one each time (ALREADY IN)\\n-More interactive surroundings: For example, I think bigger stones should be movable, so you can stack them to make walls. The starfish should be movable too, so if you want to pick one up and throw it, why not?\\n-More building options: I'm tired of this 'minecraft' style building option all games give... The shelters in the game look more like something the sims would offer. I want to see actual shelters you can build, cut two trees down, place them over the top of a boat on its side for supports, lash together palm leaves for a roof - bam a shelter. For example, making the rope a 'pin' object would be interesting, so you can 'pin' two items together, and create your own shelters this way.\\n-Schools of fish\\n-Coral reefs\\n-Great white sharks remade (bigger for one thing... and at the moment they look like they're from pixar films)\\n-Cave systems to explore (both on islands and in the water)\\n-Berries (eat them at your own risk, some are poisonous)\\n-A diary\\n-More options for various items (improved camp fires? for example, a camp fire 'pit' (requires stones, shovel and more wood).\\n\\nBasically, to sum it up, I feel the game lacks the survival and creativity it potentially has. I find myself sitting on a beach, cutting down a few trees, making a minecraft shelter and eating crabs for hours until I die (of boredom).\\nI want to be creating rain catchers, building a tropical paradise (to some extent... when man has nothing, everything is a luxary) better shelters, exploring the ocean with dangers everywhere, having to build new rafts because I stupidly hit my first one with an axe to see if it would break it, fighting off wild animals left right and center.</td>\n",
       "    </tr>\n",
       "    <tr>\n",
       "      <th>1</th>\n",
       "      <td>Recommended</td>\n",
       "      <td>Posted: 7 December, 2019</td>\n",
       "      <td>12.0 hrs on record</td>\n",
       "      <td>we need multiplayer!!!!!!!!!!!!!!!</td>\n",
       "    </tr>\n",
       "    <tr>\n",
       "      <th>2</th>\n",
       "      <td>Recommended</td>\n",
       "      <td>Posted: 18 May, 2020</td>\n",
       "      <td>63.1 hrs on record</td>\n",
       "      <td>All this game needs is online co op</td>\n",
       "    </tr>\n",
       "    <tr>\n",
       "      <th>3</th>\n",
       "      <td>Recommended</td>\n",
       "      <td>Posted: 15 August, 2021</td>\n",
       "      <td>16.2 hrs on record</td>\n",
       "      <td>LIKE THIS SO DEVS SEE DEMAND FOR ONLINE COOP</td>\n",
       "    </tr>\n",
       "    <tr>\n",
       "      <th>4</th>\n",
       "      <td>Recommended</td>\n",
       "      <td>Posted: 4 December, 2020</td>\n",
       "      <td>1,990.9 hrs on record</td>\n",
       "      <td>I really like where this game is headed. Been playing for a couple of years and seen many great changes. I am an ancient gamer (age 62) so things like story, physics and realism are pretty important. I played FPS for years and am just more interested in crafting and strategy now. I would recommend this game to anyone who loves tp observe underwater life. The content is extraordinarily beautiful.</td>\n",
       "    </tr>\n",
       "  </tbody>\n",
       "</table>\n",
       "</div>"
      ],
      "text/plain": [
       "         Title               Date Posted           Hours Played  \\\n",
       "0  Recommended  Posted: 25 January, 2015     84.1 hrs on record   \n",
       "1  Recommended  Posted: 7 December, 2019     12.0 hrs on record   \n",
       "2  Recommended      Posted: 18 May, 2020     63.1 hrs on record   \n",
       "3  Recommended   Posted: 15 August, 2021     16.2 hrs on record   \n",
       "4  Recommended  Posted: 4 December, 2020  1,990.9 hrs on record   \n",
       "\n",
       "                                                                                                                                                                                                                                                                                                                                                                                                                                                                                                                                                                                                                                                                                                                                                                                                                                                                                                                                                                                                                                                                                                                                                                                                                                                                                                                                                                                                                                                                                                                                                                                                                                                                                                                                                                                                                                                                                                                                                                                                                                                                                                                                                                                                                                                                                                                                                                                                                                                                                                                                                                                                                                                                                                                                                                                                                                                                                                                                                                                                                                                                                                                                                                                                                                                                                                                                                                                                                                                                                                                                                                                                                                                                                                                                                                                                                                                                                                                                                                                                                                                                                                                                                                                                                                                                                                                                                                                                                                                                                                                                                                                                                                                                                                                                                                                                                                                                                                                                Review  \n",
       "0  I feel, as the game stands, there isn't enough danger. I am fully aware that it is early days, but i'm also aware they're open to suggestions. I recommend the game as it stands, if you are happy funding development for a game that has SO MUCH potential, and a few solid hours of enjoyment in it's current state.\\n\\nThings i'd personally like to see:\\n\\n-Less sharks (they should be terrifying when encountered, dangerous depending on the species, and you shouldn't be able to swim as fast as them and kill them with your pocket knife. Get rid of that stupid music too, a shark attack should be unexpected, this isn't Jaws.)\\n-You should be able to break your raft if you hit it with a sharp object... if you're stupid enough to attack your boat, you deserve to die.\\n-More island variations: It feels that every island is 'roughly' the same size, and they're all spread out at equal distances... perhaps a few islands linked together, maybe a big island with cliffs (give an element to exploring the land as well as the sea).\\n-Seabirds, with eggs that you can steal to eat!\\n-Saltwater crocs (danger in the shallows and on the land)\\n-A character screen: Being able to equip items would make this game so much fun, like piecing together some torn rags to help shelter your skin from the sun, or making a crappy little hat to help prevent dehydration. Also when you get the diving gear, it gives a chance to equip it/unequip it...\\n-Blood: Having 'blood' to monitor might be interesting too, as cutting yourself could lead to unwanted attention in the water... you should be able to fashion bandages to stop the bleeding, giving a new element to your survival.\\n-Sharp coral in the shallows (in some places). This will make you have to be careful where you come ashore, as you could cut your feet.\\n-Clams\\n-illness: I want the fact I don't have a shelter, and it pisses it down with rain, to kill me. Or if I cut myself and don't bother rubbing that one special plant on the wound, the infection to kill me.\\n-Variations on underwater wrecks (big/small boats, war planes, a lost town which was swallowed by the ocean!?)\\n-Rocks pools (with the crabs in them... instead of just randomly on the beach at 'crab nests') I hate the fact the crabs are so easy to find... this game needs to be about scavenging and surviving, not just sitting and cooking crab after crab.\\n-All trees should be destroyable for wood.\\n-Torches (as in a fire torch)\\n-The ability to build bigger better rafts! Most the time you're traveling, until you find that one 'BIG' island, with the resources to survive, you need to travel, so why not be able to pimp your ride? A wind sail from palm leaves or a rudder from wood. Places to store supplies on rafts.\\n-Bee/wasp nests (you need a torch/smoke to obtain the honey safely)\\n-Scorpions/Snakes/Spiders: You'll have to be careful where you tread (also going back to clothing, you can fashion shoes from coconut husks to protect your feet)\\n***Fires should be maintainable instead of having to make a new one each time (ALREADY IN)\\n-More interactive surroundings: For example, I think bigger stones should be movable, so you can stack them to make walls. The starfish should be movable too, so if you want to pick one up and throw it, why not?\\n-More building options: I'm tired of this 'minecraft' style building option all games give... The shelters in the game look more like something the sims would offer. I want to see actual shelters you can build, cut two trees down, place them over the top of a boat on its side for supports, lash together palm leaves for a roof - bam a shelter. For example, making the rope a 'pin' object would be interesting, so you can 'pin' two items together, and create your own shelters this way.\\n-Schools of fish\\n-Coral reefs\\n-Great white sharks remade (bigger for one thing... and at the moment they look like they're from pixar films)\\n-Cave systems to explore (both on islands and in the water)\\n-Berries (eat them at your own risk, some are poisonous)\\n-A diary\\n-More options for various items (improved camp fires? for example, a camp fire 'pit' (requires stones, shovel and more wood).\\n\\nBasically, to sum it up, I feel the game lacks the survival and creativity it potentially has. I find myself sitting on a beach, cutting down a few trees, making a minecraft shelter and eating crabs for hours until I die (of boredom).\\nI want to be creating rain catchers, building a tropical paradise (to some extent... when man has nothing, everything is a luxary) better shelters, exploring the ocean with dangers everywhere, having to build new rafts because I stupidly hit my first one with an axe to see if it would break it, fighting off wild animals left right and center.  \n",
       "1                                                                                                                                                                                                                                                                                                                                                                                                                                                                                                                                                                                                                                                                                                                                                                                                                                                                                                                                                                                                                                                                                                                                                                                                                                                                                                                                                                                                                                                                                                                                                                                                                                                                                                                                                                                                                                                                                                                                                                                                                                                                                                                                                                                                                                                                                                                                                                                                                                                                                                                                                                                                                                                                                                                                                                                                                                                                                                                                                                                                                                                                                                                                                                                                                                                                                                                                                                                                                                                                                                                                                                                                                                                                                                                                                                                                                                                                                                                                                                                                                                                                                                                                                                                                                                                                                                                                                                                                                                                                                                                                                                                                                                                                                                                                                                                                                                                                                                   we need multiplayer!!!!!!!!!!!!!!!  \n",
       "2                                                                                                                                                                                                                                                                                                                                                                                                                                                                                                                                                                                                                                                                                                                                                                                                                                                                                                                                                                                                                                                                                                                                                                                                                                                                                                                                                                                                                                                                                                                                                                                                                                                                                                                                                                                                                                                                                                                                                                                                                                                                                                                                                                                                                                                                                                                                                                                                                                                                                                                                                                                                                                                                                                                                                                                                                                                                                                                                                                                                                                                                                                                                                                                                                                                                                                                                                                                                                                                                                                                                                                                                                                                                                                                                                                                                                                                                                                                                                                                                                                                                                                                                                                                                                                                                                                                                                                                                                                                                                                                                                                                                                                                                                                                                                                                                                                                                                                  All this game needs is online co op  \n",
       "3                                                                                                                                                                                                                                                                                                                                                                                                                                                                                                                                                                                                                                                                                                                                                                                                                                                                                                                                                                                                                                                                                                                                                                                                                                                                                                                                                                                                                                                                                                                                                                                                                                                                                                                                                                                                                                                                                                                                                                                                                                                                                                                                                                                                                                                                                                                                                                                                                                                                                                                                                                                                                                                                                                                                                                                                                                                                                                                                                                                                                                                                                                                                                                                                                                                                                                                                                                                                                                                                                                                                                                                                                                                                                                                                                                                                                                                                                                                                                                                                                                                                                                                                                                                                                                                                                                                                                                                                                                                                                                                                                                                                                                                                                                                                                                                                                                                                                         LIKE THIS SO DEVS SEE DEMAND FOR ONLINE COOP  \n",
       "4                                                                                                                                                                                                                                                                                                                                                                                                                                                                                                                                                                                                                                                                                                                                                                                                                                                                                                                                                                                                                                                                                                                                                                                                                                                                                                                                                                                                                                                                                                                                                                                                                                                                                                                                                                                                                                                                                                                                                                                                                                                                                                                                                                                                                                                                                                                                                                                                                                                                                                                                                                                                                                                                                                                                                                                                                                                                                                                                                                                                                                                                                                                                                                                                                                                                                                                                                                                                                                                                                                                                                                                                                                                                                                                                                                                                                                                                                                                                                                                                                                                                                                                                                                                                                                                                                                                                                                                                                                                                                                                       I really like where this game is headed. Been playing for a couple of years and seen many great changes. I am an ancient gamer (age 62) so things like story, physics and realism are pretty important. I played FPS for years and am just more interested in crafting and strategy now. I would recommend this game to anyone who loves tp observe underwater life. The content is extraordinarily beautiful.  "
      ]
     },
     "execution_count": 17,
     "metadata": {},
     "output_type": "execute_result"
    }
   ],
   "source": [
    "df.head()"
   ]
  },
  {
   "cell_type": "code",
   "execution_count": 27,
   "metadata": {},
   "outputs": [
    {
     "data": {
      "text/plain": [
       "Title\n",
       "Recommended        15030\n",
       "Not Recommended     6030\n",
       "Name: count, dtype: int64"
      ]
     },
     "execution_count": 27,
     "metadata": {},
     "output_type": "execute_result"
    }
   ],
   "source": [
    "df['Title'].value_counts()"
   ]
  }
 ],
 "metadata": {
  "kernelspec": {
   "display_name": "ema",
   "language": "python",
   "name": "python3"
  },
  "language_info": {
   "codemirror_mode": {
    "name": "ipython",
    "version": 3
   },
   "file_extension": ".py",
   "mimetype": "text/x-python",
   "name": "python",
   "nbconvert_exporter": "python",
   "pygments_lexer": "ipython3",
   "version": "3.12.1"
  }
 },
 "nbformat": 4,
 "nbformat_minor": 2
}
